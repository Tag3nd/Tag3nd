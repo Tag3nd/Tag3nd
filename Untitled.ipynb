{
 "cells": [
  {
   "cell_type": "code",
   "execution_count": 23,
   "id": "dc45e143",
   "metadata": {},
   "outputs": [],
   "source": [
    "import pandas as pd\n",
    "\n",
    "inp1 = pd.read_excel('Input_1.xlsx')\n",
    "inp2 = pd.read_excel('Input_2.xlsx')\n",
    "# print(inp2.head(0))\n",
    "# print(inp2)"
   ]
  },
  {
   "cell_type": "code",
   "execution_count": 25,
   "id": "b7d8af0a",
   "metadata": {},
   "outputs": [
    {
     "name": "stdout",
     "output_type": "stream",
     "text": [
      "Index(['Name', 'id', 'Chapter Tag', 'Concept Test 1 - score',\n",
      "       'Concept Test 1 - time-taken (seconds)', 'Concept Test 1 - answered',\n",
      "       'Concept Test 1- correct', 'Concept Test 1- wrong',\n",
      "       'Concept Test 1- skipped', 'Concept Test 2 - score',\n",
      "       'Concept Test 2 - time-taken (seconds)', 'Concept Test 2 - answered',\n",
      "       'Concept Test 2- correct', 'Concept Test 2- wrong',\n",
      "       'Concept Test 2- skipped', 'Concept Test 3 - score',\n",
      "       'Concept Test 3 - time-taken (seconds)', 'Concept Test 3 - answered',\n",
      "       'Concept Test 3- correct', 'Concept Test 3- wrong',\n",
      "       'Concept Test 3- skipped', 'Concept Test 4 - score',\n",
      "       'Concept Test 4 - time-taken (seconds)', 'Concept Test 4 - answered',\n",
      "       'Concept Test 4- correct', 'Concept Test 4- wrong',\n",
      "       'Concept Test 4- skipped', 'Topic Test 1 - score',\n",
      "       'Topic Test 1 - time-taken (seconds)', 'Topic Test 1 - answered',\n",
      "       'Topic Test 1- correct', 'Topic Test 1- wrong', 'Topic Test 1- skipped',\n",
      "       'Concept Test 5 - score', 'Concept Test 5 - time-taken (seconds)',\n",
      "       'Concept Test 5 - answered', 'Concept Test 5- correct',\n",
      "       'Concept Test 5- wrong', 'Concept Test 5- skipped',\n",
      "       'Topic Test 2 - score', 'Topic Test 2 - time-taken (seconds)',\n",
      "       'Topic Test 2 - answered', 'Topic Test 2- correct',\n",
      "       'Topic Test 2- wrong', 'Topic Test 2- skipped',\n",
      "       'Full Chapter Test 1 - score',\n",
      "       'Full Chapter Test 1 - time-taken (seconds)',\n",
      "       'Full Chapter Test 1 - answered', 'Full Chapter Test 1- correct',\n",
      "       'Full Chapter Test 1- wrong', 'Full Chapter Test 1- skipped',\n",
      "       'Full Chapter Test 2 - score',\n",
      "       'Full Chapter Test 2 - time-taken (seconds)',\n",
      "       'Full Chapter Test 2 - answered', 'Full Chapter Test 2- correct',\n",
      "       'Full Chapter Test 2- wrong', 'Full Chapter Test 2- skipped'],\n",
      "      dtype='object')\n"
     ]
    }
   ],
   "source": [
    "print(inp1.columns)\n",
    "# print(inp2.columns)\n",
    "# print(inp1.iloc[0])\n"
   ]
  },
  {
   "cell_type": "code",
   "execution_count": null,
   "id": "fca1e67f",
   "metadata": {},
   "outputs": [],
   "source": []
  }
 ],
 "metadata": {
  "kernelspec": {
   "display_name": "Python 3 (ipykernel)",
   "language": "python",
   "name": "python3"
  },
  "language_info": {
   "codemirror_mode": {
    "name": "ipython",
    "version": 3
   },
   "file_extension": ".py",
   "mimetype": "text/x-python",
   "name": "python",
   "nbconvert_exporter": "python",
   "pygments_lexer": "ipython3",
   "version": "3.10.6"
  }
 },
 "nbformat": 4,
 "nbformat_minor": 5
}
